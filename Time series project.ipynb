{
 "cells": [
  {
   "cell_type": "code",
   "execution_count": 1,
   "id": "6a52f896",
   "metadata": {},
   "outputs": [],
   "source": [
    "import numpy as np\n",
    "import pandas as pd\n",
    "import matplotlib.pyplot as plt\n",
    "import seaborn as sns"
   ]
  },
  {
   "cell_type": "code",
   "execution_count": 4,
   "id": "e9fd661e",
   "metadata": {},
   "outputs": [],
   "source": [
    "df = pd.read_csv('us-air-carrier-traffic-statistic_Forecast.csv')"
   ]
  },
  {
   "cell_type": "code",
   "execution_count": 5,
   "id": "3ac9886e",
   "metadata": {},
   "outputs": [
    {
     "data": {
      "text/html": [
       "<div>\n",
       "<style scoped>\n",
       "    .dataframe tbody tr th:only-of-type {\n",
       "        vertical-align: middle;\n",
       "    }\n",
       "\n",
       "    .dataframe tbody tr th {\n",
       "        vertical-align: top;\n",
       "    }\n",
       "\n",
       "    .dataframe thead th {\n",
       "        text-align: right;\n",
       "    }\n",
       "</style>\n",
       "<table border=\"1\" class=\"dataframe\">\n",
       "  <thead>\n",
       "    <tr style=\"text-align: right;\">\n",
       "      <th></th>\n",
       "      <th>Month</th>\n",
       "      <th>U.S. Air Carrier Traffic Statistics - Revenue Passenger Miles</th>\n",
       "    </tr>\n",
       "  </thead>\n",
       "  <tbody>\n",
       "    <tr>\n",
       "      <th>0</th>\n",
       "      <td>1996-01</td>\n",
       "      <td>41972194</td>\n",
       "    </tr>\n",
       "    <tr>\n",
       "      <th>1</th>\n",
       "      <td>1996-02</td>\n",
       "      <td>42054796</td>\n",
       "    </tr>\n",
       "    <tr>\n",
       "      <th>2</th>\n",
       "      <td>1996-03</td>\n",
       "      <td>50443045</td>\n",
       "    </tr>\n",
       "    <tr>\n",
       "      <th>3</th>\n",
       "      <td>1996-04</td>\n",
       "      <td>47112397</td>\n",
       "    </tr>\n",
       "    <tr>\n",
       "      <th>4</th>\n",
       "      <td>1996-05</td>\n",
       "      <td>49118248</td>\n",
       "    </tr>\n",
       "    <tr>\n",
       "      <th>...</th>\n",
       "      <td>...</td>\n",
       "      <td>...</td>\n",
       "    </tr>\n",
       "    <tr>\n",
       "      <th>195</th>\n",
       "      <td>2012-04</td>\n",
       "      <td>68669228</td>\n",
       "    </tr>\n",
       "    <tr>\n",
       "      <th>196</th>\n",
       "      <td>2012-05</td>\n",
       "      <td>71887523</td>\n",
       "    </tr>\n",
       "    <tr>\n",
       "      <th>197</th>\n",
       "      <td>2012-06</td>\n",
       "      <td>76760759</td>\n",
       "    </tr>\n",
       "    <tr>\n",
       "      <th>198</th>\n",
       "      <td>2012-07</td>\n",
       "      <td>80499353</td>\n",
       "    </tr>\n",
       "    <tr>\n",
       "      <th>199</th>\n",
       "      <td>2012-08</td>\n",
       "      <td>77945138</td>\n",
       "    </tr>\n",
       "  </tbody>\n",
       "</table>\n",
       "<p>200 rows × 2 columns</p>\n",
       "</div>"
      ],
      "text/plain": [
       "       Month  U.S. Air Carrier Traffic Statistics - Revenue Passenger Miles\n",
       "0    1996-01                                           41972194            \n",
       "1    1996-02                                           42054796            \n",
       "2    1996-03                                           50443045            \n",
       "3    1996-04                                           47112397            \n",
       "4    1996-05                                           49118248            \n",
       "..       ...                                                ...            \n",
       "195  2012-04                                           68669228            \n",
       "196  2012-05                                           71887523            \n",
       "197  2012-06                                           76760759            \n",
       "198  2012-07                                           80499353            \n",
       "199  2012-08                                           77945138            \n",
       "\n",
       "[200 rows x 2 columns]"
      ]
     },
     "execution_count": 5,
     "metadata": {},
     "output_type": "execute_result"
    }
   ],
   "source": [
    "df"
   ]
  },
  {
   "cell_type": "code",
   "execution_count": 6,
   "id": "c3865ef1",
   "metadata": {
    "scrolled": true
   },
   "outputs": [
    {
     "data": {
      "text/plain": [
       "(200, 2)"
      ]
     },
     "execution_count": 6,
     "metadata": {},
     "output_type": "execute_result"
    }
   ],
   "source": [
    "df.shape"
   ]
  },
  {
   "cell_type": "code",
   "execution_count": 7,
   "id": "cf56354a",
   "metadata": {
    "scrolled": true
   },
   "outputs": [
    {
     "data": {
      "text/plain": [
       "Month                                                            0\n",
       "U.S. Air Carrier Traffic Statistics - Revenue Passenger Miles    0\n",
       "dtype: int64"
      ]
     },
     "execution_count": 7,
     "metadata": {},
     "output_type": "execute_result"
    }
   ],
   "source": [
    "df.isnull().sum()"
   ]
  },
  {
   "cell_type": "code",
   "execution_count": 8,
   "id": "91b4859b",
   "metadata": {},
   "outputs": [
    {
     "data": {
      "text/plain": [
       "Index(['Month', 'U.S. Air Carrier Traffic Statistics - Revenue Passenger Miles'], dtype='object')"
      ]
     },
     "execution_count": 8,
     "metadata": {},
     "output_type": "execute_result"
    }
   ],
   "source": [
    "df.columns"
   ]
  },
  {
   "cell_type": "code",
   "execution_count": 10,
   "id": "288d2aa2",
   "metadata": {},
   "outputs": [],
   "source": [
    "df.rename(columns={'U.S. Air Carrier Traffic Statistics - Revenue Passenger Miles':'RPM'}, inplace=True)"
   ]
  },
  {
   "cell_type": "code",
   "execution_count": 11,
   "id": "a968d6c3",
   "metadata": {},
   "outputs": [
    {
     "data": {
      "text/html": [
       "<div>\n",
       "<style scoped>\n",
       "    .dataframe tbody tr th:only-of-type {\n",
       "        vertical-align: middle;\n",
       "    }\n",
       "\n",
       "    .dataframe tbody tr th {\n",
       "        vertical-align: top;\n",
       "    }\n",
       "\n",
       "    .dataframe thead th {\n",
       "        text-align: right;\n",
       "    }\n",
       "</style>\n",
       "<table border=\"1\" class=\"dataframe\">\n",
       "  <thead>\n",
       "    <tr style=\"text-align: right;\">\n",
       "      <th></th>\n",
       "      <th>Month</th>\n",
       "      <th>RPM</th>\n",
       "    </tr>\n",
       "  </thead>\n",
       "  <tbody>\n",
       "    <tr>\n",
       "      <th>0</th>\n",
       "      <td>1996-01</td>\n",
       "      <td>41972194</td>\n",
       "    </tr>\n",
       "    <tr>\n",
       "      <th>1</th>\n",
       "      <td>1996-02</td>\n",
       "      <td>42054796</td>\n",
       "    </tr>\n",
       "    <tr>\n",
       "      <th>2</th>\n",
       "      <td>1996-03</td>\n",
       "      <td>50443045</td>\n",
       "    </tr>\n",
       "    <tr>\n",
       "      <th>3</th>\n",
       "      <td>1996-04</td>\n",
       "      <td>47112397</td>\n",
       "    </tr>\n",
       "    <tr>\n",
       "      <th>4</th>\n",
       "      <td>1996-05</td>\n",
       "      <td>49118248</td>\n",
       "    </tr>\n",
       "  </tbody>\n",
       "</table>\n",
       "</div>"
      ],
      "text/plain": [
       "     Month       RPM\n",
       "0  1996-01  41972194\n",
       "1  1996-02  42054796\n",
       "2  1996-03  50443045\n",
       "3  1996-04  47112397\n",
       "4  1996-05  49118248"
      ]
     },
     "execution_count": 11,
     "metadata": {},
     "output_type": "execute_result"
    }
   ],
   "source": [
    "df.head()"
   ]
  },
  {
   "cell_type": "code",
   "execution_count": 12,
   "id": "62c8cc4f",
   "metadata": {},
   "outputs": [
    {
     "data": {
      "text/plain": [
       "Month    object\n",
       "RPM       int64\n",
       "dtype: object"
      ]
     },
     "execution_count": 12,
     "metadata": {},
     "output_type": "execute_result"
    }
   ],
   "source": [
    "df.dtypes"
   ]
  },
  {
   "cell_type": "code",
   "execution_count": 13,
   "id": "8b7329f6",
   "metadata": {},
   "outputs": [],
   "source": [
    "df['Month'] = pd.to_datetime(df['Month'])"
   ]
  },
  {
   "cell_type": "code",
   "execution_count": 14,
   "id": "7a7e1b8a",
   "metadata": {},
   "outputs": [
    {
     "data": {
      "text/plain": [
       "Month    datetime64[ns]\n",
       "RPM               int64\n",
       "dtype: object"
      ]
     },
     "execution_count": 14,
     "metadata": {},
     "output_type": "execute_result"
    }
   ],
   "source": [
    "df.dtypes"
   ]
  },
  {
   "cell_type": "code",
   "execution_count": 15,
   "id": "b3aae1a6",
   "metadata": {},
   "outputs": [],
   "source": [
    "df.set_index('Month', inplace=True)"
   ]
  },
  {
   "cell_type": "code",
   "execution_count": 16,
   "id": "f7aa14f4",
   "metadata": {},
   "outputs": [
    {
     "data": {
      "text/html": [
       "<div>\n",
       "<style scoped>\n",
       "    .dataframe tbody tr th:only-of-type {\n",
       "        vertical-align: middle;\n",
       "    }\n",
       "\n",
       "    .dataframe tbody tr th {\n",
       "        vertical-align: top;\n",
       "    }\n",
       "\n",
       "    .dataframe thead th {\n",
       "        text-align: right;\n",
       "    }\n",
       "</style>\n",
       "<table border=\"1\" class=\"dataframe\">\n",
       "  <thead>\n",
       "    <tr style=\"text-align: right;\">\n",
       "      <th></th>\n",
       "      <th>RPM</th>\n",
       "    </tr>\n",
       "    <tr>\n",
       "      <th>Month</th>\n",
       "      <th></th>\n",
       "    </tr>\n",
       "  </thead>\n",
       "  <tbody>\n",
       "    <tr>\n",
       "      <th>1996-01-01</th>\n",
       "      <td>41972194</td>\n",
       "    </tr>\n",
       "    <tr>\n",
       "      <th>1996-02-01</th>\n",
       "      <td>42054796</td>\n",
       "    </tr>\n",
       "    <tr>\n",
       "      <th>1996-03-01</th>\n",
       "      <td>50443045</td>\n",
       "    </tr>\n",
       "    <tr>\n",
       "      <th>1996-04-01</th>\n",
       "      <td>47112397</td>\n",
       "    </tr>\n",
       "    <tr>\n",
       "      <th>1996-05-01</th>\n",
       "      <td>49118248</td>\n",
       "    </tr>\n",
       "    <tr>\n",
       "      <th>...</th>\n",
       "      <td>...</td>\n",
       "    </tr>\n",
       "    <tr>\n",
       "      <th>2012-04-01</th>\n",
       "      <td>68669228</td>\n",
       "    </tr>\n",
       "    <tr>\n",
       "      <th>2012-05-01</th>\n",
       "      <td>71887523</td>\n",
       "    </tr>\n",
       "    <tr>\n",
       "      <th>2012-06-01</th>\n",
       "      <td>76760759</td>\n",
       "    </tr>\n",
       "    <tr>\n",
       "      <th>2012-07-01</th>\n",
       "      <td>80499353</td>\n",
       "    </tr>\n",
       "    <tr>\n",
       "      <th>2012-08-01</th>\n",
       "      <td>77945138</td>\n",
       "    </tr>\n",
       "  </tbody>\n",
       "</table>\n",
       "<p>200 rows × 1 columns</p>\n",
       "</div>"
      ],
      "text/plain": [
       "                 RPM\n",
       "Month               \n",
       "1996-01-01  41972194\n",
       "1996-02-01  42054796\n",
       "1996-03-01  50443045\n",
       "1996-04-01  47112397\n",
       "1996-05-01  49118248\n",
       "...              ...\n",
       "2012-04-01  68669228\n",
       "2012-05-01  71887523\n",
       "2012-06-01  76760759\n",
       "2012-07-01  80499353\n",
       "2012-08-01  77945138\n",
       "\n",
       "[200 rows x 1 columns]"
      ]
     },
     "execution_count": 16,
     "metadata": {},
     "output_type": "execute_result"
    }
   ],
   "source": [
    "df"
   ]
  },
  {
   "cell_type": "code",
   "execution_count": 21,
   "id": "5f47fff6",
   "metadata": {},
   "outputs": [],
   "source": [
    "df_train = df.iloc[0:160, :]"
   ]
  },
  {
   "cell_type": "code",
   "execution_count": 22,
   "id": "f3a95d08",
   "metadata": {},
   "outputs": [
    {
     "data": {
      "text/html": [
       "<div>\n",
       "<style scoped>\n",
       "    .dataframe tbody tr th:only-of-type {\n",
       "        vertical-align: middle;\n",
       "    }\n",
       "\n",
       "    .dataframe tbody tr th {\n",
       "        vertical-align: top;\n",
       "    }\n",
       "\n",
       "    .dataframe thead th {\n",
       "        text-align: right;\n",
       "    }\n",
       "</style>\n",
       "<table border=\"1\" class=\"dataframe\">\n",
       "  <thead>\n",
       "    <tr style=\"text-align: right;\">\n",
       "      <th></th>\n",
       "      <th>RPM</th>\n",
       "    </tr>\n",
       "    <tr>\n",
       "      <th>Month</th>\n",
       "      <th></th>\n",
       "    </tr>\n",
       "  </thead>\n",
       "  <tbody>\n",
       "    <tr>\n",
       "      <th>1996-01-01</th>\n",
       "      <td>41972194</td>\n",
       "    </tr>\n",
       "    <tr>\n",
       "      <th>1996-02-01</th>\n",
       "      <td>42054796</td>\n",
       "    </tr>\n",
       "    <tr>\n",
       "      <th>1996-03-01</th>\n",
       "      <td>50443045</td>\n",
       "    </tr>\n",
       "    <tr>\n",
       "      <th>1996-04-01</th>\n",
       "      <td>47112397</td>\n",
       "    </tr>\n",
       "    <tr>\n",
       "      <th>1996-05-01</th>\n",
       "      <td>49118248</td>\n",
       "    </tr>\n",
       "    <tr>\n",
       "      <th>...</th>\n",
       "      <td>...</td>\n",
       "    </tr>\n",
       "    <tr>\n",
       "      <th>2008-12-01</th>\n",
       "      <td>63503416</td>\n",
       "    </tr>\n",
       "    <tr>\n",
       "      <th>2009-01-01</th>\n",
       "      <td>58373786</td>\n",
       "    </tr>\n",
       "    <tr>\n",
       "      <th>2009-02-01</th>\n",
       "      <td>53506580</td>\n",
       "    </tr>\n",
       "    <tr>\n",
       "      <th>2009-03-01</th>\n",
       "      <td>66027341</td>\n",
       "    </tr>\n",
       "    <tr>\n",
       "      <th>2009-04-01</th>\n",
       "      <td>65166300</td>\n",
       "    </tr>\n",
       "  </tbody>\n",
       "</table>\n",
       "<p>160 rows × 1 columns</p>\n",
       "</div>"
      ],
      "text/plain": [
       "                 RPM\n",
       "Month               \n",
       "1996-01-01  41972194\n",
       "1996-02-01  42054796\n",
       "1996-03-01  50443045\n",
       "1996-04-01  47112397\n",
       "1996-05-01  49118248\n",
       "...              ...\n",
       "2008-12-01  63503416\n",
       "2009-01-01  58373786\n",
       "2009-02-01  53506580\n",
       "2009-03-01  66027341\n",
       "2009-04-01  65166300\n",
       "\n",
       "[160 rows x 1 columns]"
      ]
     },
     "execution_count": 22,
     "metadata": {},
     "output_type": "execute_result"
    }
   ],
   "source": [
    "df_train"
   ]
  },
  {
   "cell_type": "code",
   "execution_count": 32,
   "id": "4faf3e22",
   "metadata": {},
   "outputs": [],
   "source": [
    "df_test = df.iloc[160:, :]"
   ]
  },
  {
   "cell_type": "code",
   "execution_count": 33,
   "id": "e046ddd9",
   "metadata": {},
   "outputs": [
    {
     "data": {
      "text/html": [
       "<div>\n",
       "<style scoped>\n",
       "    .dataframe tbody tr th:only-of-type {\n",
       "        vertical-align: middle;\n",
       "    }\n",
       "\n",
       "    .dataframe tbody tr th {\n",
       "        vertical-align: top;\n",
       "    }\n",
       "\n",
       "    .dataframe thead th {\n",
       "        text-align: right;\n",
       "    }\n",
       "</style>\n",
       "<table border=\"1\" class=\"dataframe\">\n",
       "  <thead>\n",
       "    <tr style=\"text-align: right;\">\n",
       "      <th></th>\n",
       "      <th>RPM</th>\n",
       "    </tr>\n",
       "    <tr>\n",
       "      <th>Month</th>\n",
       "      <th></th>\n",
       "    </tr>\n",
       "  </thead>\n",
       "  <tbody>\n",
       "    <tr>\n",
       "      <th>2009-05-01</th>\n",
       "      <td>65868254</td>\n",
       "    </tr>\n",
       "    <tr>\n",
       "      <th>2009-06-01</th>\n",
       "      <td>71350227</td>\n",
       "    </tr>\n",
       "    <tr>\n",
       "      <th>2009-07-01</th>\n",
       "      <td>77136799</td>\n",
       "    </tr>\n",
       "    <tr>\n",
       "      <th>2009-08-01</th>\n",
       "      <td>74614773</td>\n",
       "    </tr>\n",
       "    <tr>\n",
       "      <th>2009-09-01</th>\n",
       "      <td>61435354</td>\n",
       "    </tr>\n",
       "    <tr>\n",
       "      <th>2009-10-01</th>\n",
       "      <td>64274739</td>\n",
       "    </tr>\n",
       "    <tr>\n",
       "      <th>2009-11-01</th>\n",
       "      <td>59011015</td>\n",
       "    </tr>\n",
       "    <tr>\n",
       "      <th>2009-12-01</th>\n",
       "      <td>63231672</td>\n",
       "    </tr>\n",
       "    <tr>\n",
       "      <th>2010-01-01</th>\n",
       "      <td>59651061</td>\n",
       "    </tr>\n",
       "    <tr>\n",
       "      <th>2010-02-01</th>\n",
       "      <td>53240066</td>\n",
       "    </tr>\n",
       "    <tr>\n",
       "      <th>2010-03-01</th>\n",
       "      <td>68307090</td>\n",
       "    </tr>\n",
       "    <tr>\n",
       "      <th>2010-04-01</th>\n",
       "      <td>64953250</td>\n",
       "    </tr>\n",
       "    <tr>\n",
       "      <th>2010-05-01</th>\n",
       "      <td>68850904</td>\n",
       "    </tr>\n",
       "    <tr>\n",
       "      <th>2010-06-01</th>\n",
       "      <td>74474550</td>\n",
       "    </tr>\n",
       "    <tr>\n",
       "      <th>2010-07-01</th>\n",
       "      <td>79304441</td>\n",
       "    </tr>\n",
       "    <tr>\n",
       "      <th>2010-08-01</th>\n",
       "      <td>76741308</td>\n",
       "    </tr>\n",
       "    <tr>\n",
       "      <th>2010-09-01</th>\n",
       "      <td>65341294</td>\n",
       "    </tr>\n",
       "    <tr>\n",
       "      <th>2010-10-01</th>\n",
       "      <td>69071627</td>\n",
       "    </tr>\n",
       "    <tr>\n",
       "      <th>2010-11-01</th>\n",
       "      <td>63334293</td>\n",
       "    </tr>\n",
       "    <tr>\n",
       "      <th>2010-12-01</th>\n",
       "      <td>65797942</td>\n",
       "    </tr>\n",
       "    <tr>\n",
       "      <th>2011-01-01</th>\n",
       "      <td>61630362</td>\n",
       "    </tr>\n",
       "    <tr>\n",
       "      <th>2011-02-01</th>\n",
       "      <td>55391206</td>\n",
       "    </tr>\n",
       "    <tr>\n",
       "      <th>2011-03-01</th>\n",
       "      <td>70158268</td>\n",
       "    </tr>\n",
       "    <tr>\n",
       "      <th>2011-04-01</th>\n",
       "      <td>67683558</td>\n",
       "    </tr>\n",
       "    <tr>\n",
       "      <th>2011-05-01</th>\n",
       "      <td>71711448</td>\n",
       "    </tr>\n",
       "    <tr>\n",
       "      <th>2011-06-01</th>\n",
       "      <td>76057910</td>\n",
       "    </tr>\n",
       "    <tr>\n",
       "      <th>2011-07-01</th>\n",
       "      <td>81423215</td>\n",
       "    </tr>\n",
       "    <tr>\n",
       "      <th>2011-08-01</th>\n",
       "      <td>77247933</td>\n",
       "    </tr>\n",
       "    <tr>\n",
       "      <th>2011-09-01</th>\n",
       "      <td>66345279</td>\n",
       "    </tr>\n",
       "    <tr>\n",
       "      <th>2011-10-01</th>\n",
       "      <td>68177916</td>\n",
       "    </tr>\n",
       "    <tr>\n",
       "      <th>2011-11-01</th>\n",
       "      <td>63491903</td>\n",
       "    </tr>\n",
       "    <tr>\n",
       "      <th>2011-12-01</th>\n",
       "      <td>66595168</td>\n",
       "    </tr>\n",
       "    <tr>\n",
       "      <th>2012-01-01</th>\n",
       "      <td>61940180</td>\n",
       "    </tr>\n",
       "    <tr>\n",
       "      <th>2012-02-01</th>\n",
       "      <td>58243763</td>\n",
       "    </tr>\n",
       "    <tr>\n",
       "      <th>2012-03-01</th>\n",
       "      <td>71696039</td>\n",
       "    </tr>\n",
       "    <tr>\n",
       "      <th>2012-04-01</th>\n",
       "      <td>68669228</td>\n",
       "    </tr>\n",
       "    <tr>\n",
       "      <th>2012-05-01</th>\n",
       "      <td>71887523</td>\n",
       "    </tr>\n",
       "    <tr>\n",
       "      <th>2012-06-01</th>\n",
       "      <td>76760759</td>\n",
       "    </tr>\n",
       "    <tr>\n",
       "      <th>2012-07-01</th>\n",
       "      <td>80499353</td>\n",
       "    </tr>\n",
       "    <tr>\n",
       "      <th>2012-08-01</th>\n",
       "      <td>77945138</td>\n",
       "    </tr>\n",
       "  </tbody>\n",
       "</table>\n",
       "</div>"
      ],
      "text/plain": [
       "                 RPM\n",
       "Month               \n",
       "2009-05-01  65868254\n",
       "2009-06-01  71350227\n",
       "2009-07-01  77136799\n",
       "2009-08-01  74614773\n",
       "2009-09-01  61435354\n",
       "2009-10-01  64274739\n",
       "2009-11-01  59011015\n",
       "2009-12-01  63231672\n",
       "2010-01-01  59651061\n",
       "2010-02-01  53240066\n",
       "2010-03-01  68307090\n",
       "2010-04-01  64953250\n",
       "2010-05-01  68850904\n",
       "2010-06-01  74474550\n",
       "2010-07-01  79304441\n",
       "2010-08-01  76741308\n",
       "2010-09-01  65341294\n",
       "2010-10-01  69071627\n",
       "2010-11-01  63334293\n",
       "2010-12-01  65797942\n",
       "2011-01-01  61630362\n",
       "2011-02-01  55391206\n",
       "2011-03-01  70158268\n",
       "2011-04-01  67683558\n",
       "2011-05-01  71711448\n",
       "2011-06-01  76057910\n",
       "2011-07-01  81423215\n",
       "2011-08-01  77247933\n",
       "2011-09-01  66345279\n",
       "2011-10-01  68177916\n",
       "2011-11-01  63491903\n",
       "2011-12-01  66595168\n",
       "2012-01-01  61940180\n",
       "2012-02-01  58243763\n",
       "2012-03-01  71696039\n",
       "2012-04-01  68669228\n",
       "2012-05-01  71887523\n",
       "2012-06-01  76760759\n",
       "2012-07-01  80499353\n",
       "2012-08-01  77945138"
      ]
     },
     "execution_count": 33,
     "metadata": {},
     "output_type": "execute_result"
    }
   ],
   "source": [
    "df_test"
   ]
  },
  {
   "cell_type": "code",
   "execution_count": 36,
   "id": "58c253e5",
   "metadata": {},
   "outputs": [
    {
     "data": {
      "text/plain": [
       "(40, 1)"
      ]
     },
     "execution_count": 36,
     "metadata": {},
     "output_type": "execute_result"
    }
   ],
   "source": [
    "df_test.shape"
   ]
  },
  {
   "cell_type": "code",
   "execution_count": 37,
   "id": "bda17fee",
   "metadata": {},
   "outputs": [
    {
     "data": {
      "text/plain": [
       "<function matplotlib.pyplot.show(close=None, block=None)>"
      ]
     },
     "execution_count": 37,
     "metadata": {},
     "output_type": "execute_result"
    },
    {
     "data": {
      "image/png": "[encoded data removed]",
      "text/plain": [
       "<Figure size 864x576 with 1 Axes>"
      ]
     },
     "metadata": {
      "needs_background": "light"
     },
     "output_type": "display_data"
    }
   ],
   "source": [
    "df_train['RPM'].plot(figsize=(12, 8))\n",
    "plt.show"
   ]
  },
  {
   "cell_type": "code",
   "execution_count": 38,
   "id": "9f1c68fb",
   "metadata": {},
   "outputs": [],
   "source": [
    "from statsmodels.tsa.seasonal import seasonal_decompose"
   ]
  },
  {
   "cell_type": "code",
   "execution_count": 39,
   "id": "2e33b5eb",
   "metadata": {},
   "outputs": [
    {
     "name": "stderr",
     "output_type": "stream",
     "text": [
      "C:\\Users\\compaq\\AppData\\Local\\Temp/ipykernel_8708/1583136172.py:1: FutureWarning: the 'freq'' keyword is deprecated, use 'period' instead\n",
      "  decompose = seasonal_decompose(df_train['RPM'], model='multiplicative', freq = 12)\n"
     ]
    },
    {
     "data": {
      "image/png": "[encoded data removed]",
      "text/plain": [
       "<Figure size 432x288 with 4 Axes>"
      ]
     },
     "metadata": {
      "needs_background": "light"
     },
     "output_type": "display_data"
    }
   ],
   "source": [
    "decompose = seasonal_decompose(df_train['RPM'], model='multiplicative', freq = 12)\n",
    "decompose.plot()\n",
    "plt.show()"
   ]
  },
  {
   "cell_type": "code",
   "execution_count": 40,
   "id": "beb6b93e",
   "metadata": {},
   "outputs": [],
   "source": [
    "from statsmodels.tsa.stattools import adfuller"
   ]
  },
  {
   "cell_type": "code",
   "execution_count": 45,
   "id": "7801cb37",
   "metadata": {},
   "outputs": [],
   "source": [
    "def adfuller_test(x):\n",
    "    result = adfuller(x)\n",
    "    labels = ['ADF Test Statistic', 'p-value', 'lags_used', 'No. of observations used']\n",
    "    for a, b in zip(result, labels):\n",
    "        print (b + ' : ' + str(a))\n",
    "    if result[1] <=0.05:\n",
    "        print ('Data is stationary')\n",
    "    else:\n",
    "        print ('Data is non_stationary')"
   ]
  },
  {
   "cell_type": "code",
   "execution_count": 46,
   "id": "4fbae6eb",
   "metadata": {},
   "outputs": [
    {
     "name": "stdout",
     "output_type": "stream",
     "text": [
      "ADF Test Statistic : -1.4470235313839424\n",
      "p-value : 0.5595365804533373\n",
      "lags_used : 13\n",
      "No. of observations used : 146\n",
      "Data is non_stationary\n"
     ]
    }
   ],
   "source": [
    "adfuller_test(df_train['RPM'])"
   ]
  },
  {
   "cell_type": "code",
   "execution_count": 47,
   "id": "b21ee507",
   "metadata": {},
   "outputs": [
    {
     "name": "stderr",
     "output_type": "stream",
     "text": [
      "C:\\Users\\compaq\\AppData\\Local\\Temp/ipykernel_8708/2806038124.py:1: SettingWithCopyWarning: \n",
      "A value is trying to be set on a copy of a slice from a DataFrame.\n",
      "Try using .loc[row_indexer,col_indexer] = value instead\n",
      "\n",
      "See the caveats in the documentation: https://pandas.pydata.org/pandas-docs/stable/user_guide/indexing.html#returning-a-view-versus-a-copy\n",
      "  df_train['lag12'] = df_train['RPM'].shift(-12)\n"
     ]
    }
   ],
   "source": [
    "df_train['lag12'] = df_train['RPM'].shift(-12)"
   ]
  },
  {
   "cell_type": "code",
   "execution_count": 48,
   "id": "286cbd52",
   "metadata": {},
   "outputs": [
    {
     "name": "stderr",
     "output_type": "stream",
     "text": [
      "C:\\Users\\compaq\\AppData\\Local\\Temp/ipykernel_8708/103780028.py:1: SettingWithCopyWarning: \n",
      "A value is trying to be set on a copy of a slice from a DataFrame.\n",
      "Try using .loc[row_indexer,col_indexer] = value instead\n",
      "\n",
      "See the caveats in the documentation: https://pandas.pydata.org/pandas-docs/stable/user_guide/indexing.html#returning-a-view-versus-a-copy\n",
      "  df_train['Seasonal_1st_diff'] = df_train['RPM'] - df_train['lag12']\n"
     ]
    }
   ],
   "source": [
    "df_train['Seasonal_1st_diff'] = df_train['RPM'] - df_train['lag12']"
   ]
  },
  {
   "cell_type": "code",
   "execution_count": 49,
   "id": "af443ab5",
   "metadata": {},
   "outputs": [
    {
     "data": {
      "text/html": [
       "<div>\n",
       "<style scoped>\n",
       "    .dataframe tbody tr th:only-of-type {\n",
       "        vertical-align: middle;\n",
       "    }\n",
       "\n",
       "    .dataframe tbody tr th {\n",
       "        vertical-align: top;\n",
       "    }\n",
       "\n",
       "    .dataframe thead th {\n",
       "        text-align: right;\n",
       "    }\n",
       "</style>\n",
       "<table border=\"1\" class=\"dataframe\">\n",
       "  <thead>\n",
       "    <tr style=\"text-align: right;\">\n",
       "      <th></th>\n",
       "      <th>RPM</th>\n",
       "      <th>lag12</th>\n",
       "      <th>Seasonal_1st_diff</th>\n",
       "    </tr>\n",
       "    <tr>\n",
       "      <th>Month</th>\n",
       "      <th></th>\n",
       "      <th></th>\n",
       "      <th></th>\n",
       "    </tr>\n",
       "  </thead>\n",
       "  <tbody>\n",
       "    <tr>\n",
       "      <th>1996-01-01</th>\n",
       "      <td>41972194</td>\n",
       "      <td>45850623.0</td>\n",
       "      <td>-3878429.0</td>\n",
       "    </tr>\n",
       "    <tr>\n",
       "      <th>1996-02-01</th>\n",
       "      <td>42054796</td>\n",
       "      <td>42838949.0</td>\n",
       "      <td>-784153.0</td>\n",
       "    </tr>\n",
       "    <tr>\n",
       "      <th>1996-03-01</th>\n",
       "      <td>50443045</td>\n",
       "      <td>53620994.0</td>\n",
       "      <td>-3177949.0</td>\n",
       "    </tr>\n",
       "    <tr>\n",
       "      <th>1996-04-01</th>\n",
       "      <td>47112397</td>\n",
       "      <td>49282817.0</td>\n",
       "      <td>-2170420.0</td>\n",
       "    </tr>\n",
       "    <tr>\n",
       "      <th>1996-05-01</th>\n",
       "      <td>49118248</td>\n",
       "      <td>51191842.0</td>\n",
       "      <td>-2073594.0</td>\n",
       "    </tr>\n",
       "    <tr>\n",
       "      <th>...</th>\n",
       "      <td>...</td>\n",
       "      <td>...</td>\n",
       "      <td>...</td>\n",
       "    </tr>\n",
       "    <tr>\n",
       "      <th>2008-12-01</th>\n",
       "      <td>63503416</td>\n",
       "      <td>NaN</td>\n",
       "      <td>NaN</td>\n",
       "    </tr>\n",
       "    <tr>\n",
       "      <th>2009-01-01</th>\n",
       "      <td>58373786</td>\n",
       "      <td>NaN</td>\n",
       "      <td>NaN</td>\n",
       "    </tr>\n",
       "    <tr>\n",
       "      <th>2009-02-01</th>\n",
       "      <td>53506580</td>\n",
       "      <td>NaN</td>\n",
       "      <td>NaN</td>\n",
       "    </tr>\n",
       "    <tr>\n",
       "      <th>2009-03-01</th>\n",
       "      <td>66027341</td>\n",
       "      <td>NaN</td>\n",
       "      <td>NaN</td>\n",
       "    </tr>\n",
       "    <tr>\n",
       "      <th>2009-04-01</th>\n",
       "      <td>65166300</td>\n",
       "      <td>NaN</td>\n",
       "      <td>NaN</td>\n",
       "    </tr>\n",
       "  </tbody>\n",
       "</table>\n",
       "<p>160 rows × 3 columns</p>\n",
       "</div>"
      ],
      "text/plain": [
       "                 RPM       lag12  Seasonal_1st_diff\n",
       "Month                                              \n",
       "1996-01-01  41972194  45850623.0         -3878429.0\n",
       "1996-02-01  42054796  42838949.0          -784153.0\n",
       "1996-03-01  50443045  53620994.0         -3177949.0\n",
       "1996-04-01  47112397  49282817.0         -2170420.0\n",
       "1996-05-01  49118248  51191842.0         -2073594.0\n",
       "...              ...         ...                ...\n",
       "2008-12-01  63503416         NaN                NaN\n",
       "2009-01-01  58373786         NaN                NaN\n",
       "2009-02-01  53506580         NaN                NaN\n",
       "2009-03-01  66027341         NaN                NaN\n",
       "2009-04-01  65166300         NaN                NaN\n",
       "\n",
       "[160 rows x 3 columns]"
      ]
     },
     "execution_count": 49,
     "metadata": {},
     "output_type": "execute_result"
    }
   ],
   "source": [
    "df_train"
   ]
  },
  {
   "cell_type": "code",
   "execution_count": 50,
   "id": "772ab46f",
   "metadata": {},
   "outputs": [
    {
     "name": "stderr",
     "output_type": "stream",
     "text": [
      "C:\\Users\\compaq\\Anaconda3\\lib\\site-packages\\pandas\\util\\_decorators.py:311: SettingWithCopyWarning: \n",
      "A value is trying to be set on a copy of a slice from a DataFrame\n",
      "\n",
      "See the caveats in the documentation: https://pandas.pydata.org/pandas-docs/stable/user_guide/indexing.html#returning-a-view-versus-a-copy\n",
      "  return func(*args, **kwargs)\n"
     ]
    }
   ],
   "source": [
    "df_train.dropna(inplace=True)"
   ]
  },
  {
   "cell_type": "code",
   "execution_count": 51,
   "id": "a4a64d52",
   "metadata": {},
   "outputs": [
    {
     "data": {
      "text/html": [
       "<div>\n",
       "<style scoped>\n",
       "    .dataframe tbody tr th:only-of-type {\n",
       "        vertical-align: middle;\n",
       "    }\n",
       "\n",
       "    .dataframe tbody tr th {\n",
       "        vertical-align: top;\n",
       "    }\n",
       "\n",
       "    .dataframe thead th {\n",
       "        text-align: right;\n",
       "    }\n",
       "</style>\n",
       "<table border=\"1\" class=\"dataframe\">\n",
       "  <thead>\n",
       "    <tr style=\"text-align: right;\">\n",
       "      <th></th>\n",
       "      <th>RPM</th>\n",
       "      <th>lag12</th>\n",
       "      <th>Seasonal_1st_diff</th>\n",
       "    </tr>\n",
       "    <tr>\n",
       "      <th>Month</th>\n",
       "      <th></th>\n",
       "      <th></th>\n",
       "      <th></th>\n",
       "    </tr>\n",
       "  </thead>\n",
       "  <tbody>\n",
       "    <tr>\n",
       "      <th>1996-01-01</th>\n",
       "      <td>41972194</td>\n",
       "      <td>45850623.0</td>\n",
       "      <td>-3878429.0</td>\n",
       "    </tr>\n",
       "    <tr>\n",
       "      <th>1996-02-01</th>\n",
       "      <td>42054796</td>\n",
       "      <td>42838949.0</td>\n",
       "      <td>-784153.0</td>\n",
       "    </tr>\n",
       "    <tr>\n",
       "      <th>1996-03-01</th>\n",
       "      <td>50443045</td>\n",
       "      <td>53620994.0</td>\n",
       "      <td>-3177949.0</td>\n",
       "    </tr>\n",
       "    <tr>\n",
       "      <th>1996-04-01</th>\n",
       "      <td>47112397</td>\n",
       "      <td>49282817.0</td>\n",
       "      <td>-2170420.0</td>\n",
       "    </tr>\n",
       "    <tr>\n",
       "      <th>1996-05-01</th>\n",
       "      <td>49118248</td>\n",
       "      <td>51191842.0</td>\n",
       "      <td>-2073594.0</td>\n",
       "    </tr>\n",
       "    <tr>\n",
       "      <th>...</th>\n",
       "      <td>...</td>\n",
       "      <td>...</td>\n",
       "      <td>...</td>\n",
       "    </tr>\n",
       "    <tr>\n",
       "      <th>2007-12-01</th>\n",
       "      <td>67782533</td>\n",
       "      <td>63503416.0</td>\n",
       "      <td>4279117.0</td>\n",
       "    </tr>\n",
       "    <tr>\n",
       "      <th>2008-01-01</th>\n",
       "      <td>64667106</td>\n",
       "      <td>58373786.0</td>\n",
       "      <td>6293320.0</td>\n",
       "    </tr>\n",
       "    <tr>\n",
       "      <th>2008-02-01</th>\n",
       "      <td>61504426</td>\n",
       "      <td>53506580.0</td>\n",
       "      <td>7997846.0</td>\n",
       "    </tr>\n",
       "    <tr>\n",
       "      <th>2008-03-01</th>\n",
       "      <td>74575531</td>\n",
       "      <td>66027341.0</td>\n",
       "      <td>8548190.0</td>\n",
       "    </tr>\n",
       "    <tr>\n",
       "      <th>2008-04-01</th>\n",
       "      <td>68906882</td>\n",
       "      <td>65166300.0</td>\n",
       "      <td>3740582.0</td>\n",
       "    </tr>\n",
       "  </tbody>\n",
       "</table>\n",
       "<p>148 rows × 3 columns</p>\n",
       "</div>"
      ],
      "text/plain": [
       "                 RPM       lag12  Seasonal_1st_diff\n",
       "Month                                              \n",
       "1996-01-01  41972194  45850623.0         -3878429.0\n",
       "1996-02-01  42054796  42838949.0          -784153.0\n",
       "1996-03-01  50443045  53620994.0         -3177949.0\n",
       "1996-04-01  47112397  49282817.0         -2170420.0\n",
       "1996-05-01  49118248  51191842.0         -2073594.0\n",
       "...              ...         ...                ...\n",
       "2007-12-01  67782533  63503416.0          4279117.0\n",
       "2008-01-01  64667106  58373786.0          6293320.0\n",
       "2008-02-01  61504426  53506580.0          7997846.0\n",
       "2008-03-01  74575531  66027341.0          8548190.0\n",
       "2008-04-01  68906882  65166300.0          3740582.0\n",
       "\n",
       "[148 rows x 3 columns]"
      ]
     },
     "execution_count": 51,
     "metadata": {},
     "output_type": "execute_result"
    }
   ],
   "source": [
    "df_train"
   ]
  },
  {
   "cell_type": "code",
   "execution_count": 52,
   "id": "b5990a7d",
   "metadata": {},
   "outputs": [
    {
     "name": "stdout",
     "output_type": "stream",
     "text": [
      "ADF Test Statistic : -2.4067901590646854\n",
      "p-value : 0.1398291009680318\n",
      "lags_used : 12\n",
      "No. of observations used : 135\n",
      "Data is non_stationary\n"
     ]
    }
   ],
   "source": [
    "adfuller_test(df_train['Seasonal_1st_diff'])"
   ]
  },
  {
   "cell_type": "code",
   "execution_count": 53,
   "id": "f0b3a4f1",
   "metadata": {},
   "outputs": [
    {
     "name": "stderr",
     "output_type": "stream",
     "text": [
      "C:\\Users\\compaq\\AppData\\Local\\Temp/ipykernel_8708/761220970.py:1: SettingWithCopyWarning: \n",
      "A value is trying to be set on a copy of a slice from a DataFrame.\n",
      "Try using .loc[row_indexer,col_indexer] = value instead\n",
      "\n",
      "See the caveats in the documentation: https://pandas.pydata.org/pandas-docs/stable/user_guide/indexing.html#returning-a-view-versus-a-copy\n",
      "  df_train['Seasonal_1st_diff (lag1)'] = df_train['Seasonal_1st_diff'].shift(-1)\n"
     ]
    }
   ],
   "source": [
    "df_train['Seasonal_1st_diff (lag1)'] = df_train['Seasonal_1st_diff'].shift(-1)"
   ]
  },
  {
   "cell_type": "code",
   "execution_count": 54,
   "id": "64c93528",
   "metadata": {},
   "outputs": [
    {
     "name": "stderr",
     "output_type": "stream",
     "text": [
      "C:\\Users\\compaq\\AppData\\Local\\Temp/ipykernel_8708/2484244386.py:1: SettingWithCopyWarning: \n",
      "A value is trying to be set on a copy of a slice from a DataFrame.\n",
      "Try using .loc[row_indexer,col_indexer] = value instead\n",
      "\n",
      "See the caveats in the documentation: https://pandas.pydata.org/pandas-docs/stable/user_guide/indexing.html#returning-a-view-versus-a-copy\n",
      "  df_train['Seasonal_2nd_diff'] = df_train['Seasonal_1st_diff'] - df_train['Seasonal_1st_diff (lag1)']\n"
     ]
    }
   ],
   "source": [
    "df_train['Seasonal_2nd_diff'] = df_train['Seasonal_1st_diff'] - df_train['Seasonal_1st_diff (lag1)']"
   ]
  },
  {
   "cell_type": "code",
   "execution_count": 55,
   "id": "ced16c9c",
   "metadata": {},
   "outputs": [
    {
     "data": {
      "text/html": [
       "<div>\n",
       "<style scoped>\n",
       "    .dataframe tbody tr th:only-of-type {\n",
       "        vertical-align: middle;\n",
       "    }\n",
       "\n",
       "    .dataframe tbody tr th {\n",
       "        vertical-align: top;\n",
       "    }\n",
       "\n",
       "    .dataframe thead th {\n",
       "        text-align: right;\n",
       "    }\n",
       "</style>\n",
       "<table border=\"1\" class=\"dataframe\">\n",
       "  <thead>\n",
       "    <tr style=\"text-align: right;\">\n",
       "      <th></th>\n",
       "      <th>RPM</th>\n",
       "      <th>lag12</th>\n",
       "      <th>Seasonal_1st_diff</th>\n",
       "      <th>Seasonal_1st_diff (lag1)</th>\n",
       "      <th>Seasonal_2nd_diff</th>\n",
       "    </tr>\n",
       "    <tr>\n",
       "      <th>Month</th>\n",
       "      <th></th>\n",
       "      <th></th>\n",
       "      <th></th>\n",
       "      <th></th>\n",
       "      <th></th>\n",
       "    </tr>\n",
       "  </thead>\n",
       "  <tbody>\n",
       "    <tr>\n",
       "      <th>1996-01-01</th>\n",
       "      <td>41972194</td>\n",
       "      <td>45850623.0</td>\n",
       "      <td>-3878429.0</td>\n",
       "      <td>-784153.0</td>\n",
       "      <td>-3094276.0</td>\n",
       "    </tr>\n",
       "    <tr>\n",
       "      <th>1996-02-01</th>\n",
       "      <td>42054796</td>\n",
       "      <td>42838949.0</td>\n",
       "      <td>-784153.0</td>\n",
       "      <td>-3177949.0</td>\n",
       "      <td>2393796.0</td>\n",
       "    </tr>\n",
       "    <tr>\n",
       "      <th>1996-03-01</th>\n",
       "      <td>50443045</td>\n",
       "      <td>53620994.0</td>\n",
       "      <td>-3177949.0</td>\n",
       "      <td>-2170420.0</td>\n",
       "      <td>-1007529.0</td>\n",
       "    </tr>\n",
       "    <tr>\n",
       "      <th>1996-04-01</th>\n",
       "      <td>47112397</td>\n",
       "      <td>49282817.0</td>\n",
       "      <td>-2170420.0</td>\n",
       "      <td>-2073594.0</td>\n",
       "      <td>-96826.0</td>\n",
       "    </tr>\n",
       "    <tr>\n",
       "      <th>1996-05-01</th>\n",
       "      <td>49118248</td>\n",
       "      <td>51191842.0</td>\n",
       "      <td>-2073594.0</td>\n",
       "      <td>-1826711.0</td>\n",
       "      <td>-246883.0</td>\n",
       "    </tr>\n",
       "    <tr>\n",
       "      <th>...</th>\n",
       "      <td>...</td>\n",
       "      <td>...</td>\n",
       "      <td>...</td>\n",
       "      <td>...</td>\n",
       "      <td>...</td>\n",
       "    </tr>\n",
       "    <tr>\n",
       "      <th>2007-12-01</th>\n",
       "      <td>67782533</td>\n",
       "      <td>63503416.0</td>\n",
       "      <td>4279117.0</td>\n",
       "      <td>6293320.0</td>\n",
       "      <td>-2014203.0</td>\n",
       "    </tr>\n",
       "    <tr>\n",
       "      <th>2008-01-01</th>\n",
       "      <td>64667106</td>\n",
       "      <td>58373786.0</td>\n",
       "      <td>6293320.0</td>\n",
       "      <td>7997846.0</td>\n",
       "      <td>-1704526.0</td>\n",
       "    </tr>\n",
       "    <tr>\n",
       "      <th>2008-02-01</th>\n",
       "      <td>61504426</td>\n",
       "      <td>53506580.0</td>\n",
       "      <td>7997846.0</td>\n",
       "      <td>8548190.0</td>\n",
       "      <td>-550344.0</td>\n",
       "    </tr>\n",
       "    <tr>\n",
       "      <th>2008-03-01</th>\n",
       "      <td>74575531</td>\n",
       "      <td>66027341.0</td>\n",
       "      <td>8548190.0</td>\n",
       "      <td>3740582.0</td>\n",
       "      <td>4807608.0</td>\n",
       "    </tr>\n",
       "    <tr>\n",
       "      <th>2008-04-01</th>\n",
       "      <td>68906882</td>\n",
       "      <td>65166300.0</td>\n",
       "      <td>3740582.0</td>\n",
       "      <td>NaN</td>\n",
       "      <td>NaN</td>\n",
       "    </tr>\n",
       "  </tbody>\n",
       "</table>\n",
       "<p>148 rows × 5 columns</p>\n",
       "</div>"
      ],
      "text/plain": [
       "                 RPM       lag12  Seasonal_1st_diff  Seasonal_1st_diff (lag1)  \\\n",
       "Month                                                                           \n",
       "1996-01-01  41972194  45850623.0         -3878429.0                 -784153.0   \n",
       "1996-02-01  42054796  42838949.0          -784153.0                -3177949.0   \n",
       "1996-03-01  50443045  53620994.0         -3177949.0                -2170420.0   \n",
       "1996-04-01  47112397  49282817.0         -2170420.0                -2073594.0   \n",
       "1996-05-01  49118248  51191842.0         -2073594.0                -1826711.0   \n",
       "...              ...         ...                ...                       ...   \n",
       "2007-12-01  67782533  63503416.0          4279117.0                 6293320.0   \n",
       "2008-01-01  64667106  58373786.0          6293320.0                 7997846.0   \n",
       "2008-02-01  61504426  53506580.0          7997846.0                 8548190.0   \n",
       "2008-03-01  74575531  66027341.0          8548190.0                 3740582.0   \n",
       "2008-04-01  68906882  65166300.0          3740582.0                       NaN   \n",
       "\n",
       "            Seasonal_2nd_diff  \n",
       "Month                          \n",
       "1996-01-01         -3094276.0  \n",
       "1996-02-01          2393796.0  \n",
       "1996-03-01         -1007529.0  \n",
       "1996-04-01           -96826.0  \n",
       "1996-05-01          -246883.0  \n",
       "...                       ...  \n",
       "2007-12-01         -2014203.0  \n",
       "2008-01-01         -1704526.0  \n",
       "2008-02-01          -550344.0  \n",
       "2008-03-01          4807608.0  \n",
       "2008-04-01                NaN  \n",
       "\n",
       "[148 rows x 5 columns]"
      ]
     },
     "execution_count": 55,
     "metadata": {},
     "output_type": "execute_result"
    }
   ],
   "source": [
    "df_train"
   ]
  },
  {
   "cell_type": "code",
   "execution_count": 56,
   "id": "884f55fc",
   "metadata": {},
   "outputs": [
    {
     "name": "stderr",
     "output_type": "stream",
     "text": [
      "C:\\Users\\compaq\\Anaconda3\\lib\\site-packages\\pandas\\util\\_decorators.py:311: SettingWithCopyWarning: \n",
      "A value is trying to be set on a copy of a slice from a DataFrame\n",
      "\n",
      "See the caveats in the documentation: https://pandas.pydata.org/pandas-docs/stable/user_guide/indexing.html#returning-a-view-versus-a-copy\n",
      "  return func(*args, **kwargs)\n"
     ]
    }
   ],
   "source": [
    "df_train.dropna(inplace=True)"
   ]
  },
  {
   "cell_type": "code",
   "execution_count": 57,
   "id": "26793573",
   "metadata": {},
   "outputs": [
    {
     "data": {
      "text/html": [
       "<div>\n",
       "<style scoped>\n",
       "    .dataframe tbody tr th:only-of-type {\n",
       "        vertical-align: middle;\n",
       "    }\n",
       "\n",
       "    .dataframe tbody tr th {\n",
       "        vertical-align: top;\n",
       "    }\n",
       "\n",
       "    .dataframe thead th {\n",
       "        text-align: right;\n",
       "    }\n",
       "</style>\n",
       "<table border=\"1\" class=\"dataframe\">\n",
       "  <thead>\n",
       "    <tr style=\"text-align: right;\">\n",
       "      <th></th>\n",
       "      <th>RPM</th>\n",
       "      <th>lag12</th>\n",
       "      <th>Seasonal_1st_diff</th>\n",
       "      <th>Seasonal_1st_diff (lag1)</th>\n",
       "      <th>Seasonal_2nd_diff</th>\n",
       "    </tr>\n",
       "    <tr>\n",
       "      <th>Month</th>\n",
       "      <th></th>\n",
       "      <th></th>\n",
       "      <th></th>\n",
       "      <th></th>\n",
       "      <th></th>\n",
       "    </tr>\n",
       "  </thead>\n",
       "  <tbody>\n",
       "    <tr>\n",
       "      <th>1996-01-01</th>\n",
       "      <td>41972194</td>\n",
       "      <td>45850623.0</td>\n",
       "      <td>-3878429.0</td>\n",
       "      <td>-784153.0</td>\n",
       "      <td>-3094276.0</td>\n",
       "    </tr>\n",
       "    <tr>\n",
       "      <th>1996-02-01</th>\n",
       "      <td>42054796</td>\n",
       "      <td>42838949.0</td>\n",
       "      <td>-784153.0</td>\n",
       "      <td>-3177949.0</td>\n",
       "      <td>2393796.0</td>\n",
       "    </tr>\n",
       "    <tr>\n",
       "      <th>1996-03-01</th>\n",
       "      <td>50443045</td>\n",
       "      <td>53620994.0</td>\n",
       "      <td>-3177949.0</td>\n",
       "      <td>-2170420.0</td>\n",
       "      <td>-1007529.0</td>\n",
       "    </tr>\n",
       "    <tr>\n",
       "      <th>1996-04-01</th>\n",
       "      <td>47112397</td>\n",
       "      <td>49282817.0</td>\n",
       "      <td>-2170420.0</td>\n",
       "      <td>-2073594.0</td>\n",
       "      <td>-96826.0</td>\n",
       "    </tr>\n",
       "    <tr>\n",
       "      <th>1996-05-01</th>\n",
       "      <td>49118248</td>\n",
       "      <td>51191842.0</td>\n",
       "      <td>-2073594.0</td>\n",
       "      <td>-1826711.0</td>\n",
       "      <td>-246883.0</td>\n",
       "    </tr>\n",
       "    <tr>\n",
       "      <th>...</th>\n",
       "      <td>...</td>\n",
       "      <td>...</td>\n",
       "      <td>...</td>\n",
       "      <td>...</td>\n",
       "      <td>...</td>\n",
       "    </tr>\n",
       "    <tr>\n",
       "      <th>2007-11-01</th>\n",
       "      <td>66250428</td>\n",
       "      <td>58512623.0</td>\n",
       "      <td>7737805.0</td>\n",
       "      <td>4279117.0</td>\n",
       "      <td>3458688.0</td>\n",
       "    </tr>\n",
       "    <tr>\n",
       "      <th>2007-12-01</th>\n",
       "      <td>67782533</td>\n",
       "      <td>63503416.0</td>\n",
       "      <td>4279117.0</td>\n",
       "      <td>6293320.0</td>\n",
       "      <td>-2014203.0</td>\n",
       "    </tr>\n",
       "    <tr>\n",
       "      <th>2008-01-01</th>\n",
       "      <td>64667106</td>\n",
       "      <td>58373786.0</td>\n",
       "      <td>6293320.0</td>\n",
       "      <td>7997846.0</td>\n",
       "      <td>-1704526.0</td>\n",
       "    </tr>\n",
       "    <tr>\n",
       "      <th>2008-02-01</th>\n",
       "      <td>61504426</td>\n",
       "      <td>53506580.0</td>\n",
       "      <td>7997846.0</td>\n",
       "      <td>8548190.0</td>\n",
       "      <td>-550344.0</td>\n",
       "    </tr>\n",
       "    <tr>\n",
       "      <th>2008-03-01</th>\n",
       "      <td>74575531</td>\n",
       "      <td>66027341.0</td>\n",
       "      <td>8548190.0</td>\n",
       "      <td>3740582.0</td>\n",
       "      <td>4807608.0</td>\n",
       "    </tr>\n",
       "  </tbody>\n",
       "</table>\n",
       "<p>147 rows × 5 columns</p>\n",
       "</div>"
      ],
      "text/plain": [
       "                 RPM       lag12  Seasonal_1st_diff  Seasonal_1st_diff (lag1)  \\\n",
       "Month                                                                           \n",
       "1996-01-01  41972194  45850623.0         -3878429.0                 -784153.0   \n",
       "1996-02-01  42054796  42838949.0          -784153.0                -3177949.0   \n",
       "1996-03-01  50443045  53620994.0         -3177949.0                -2170420.0   \n",
       "1996-04-01  47112397  49282817.0         -2170420.0                -2073594.0   \n",
       "1996-05-01  49118248  51191842.0         -2073594.0                -1826711.0   \n",
       "...              ...         ...                ...                       ...   \n",
       "2007-11-01  66250428  58512623.0          7737805.0                 4279117.0   \n",
       "2007-12-01  67782533  63503416.0          4279117.0                 6293320.0   \n",
       "2008-01-01  64667106  58373786.0          6293320.0                 7997846.0   \n",
       "2008-02-01  61504426  53506580.0          7997846.0                 8548190.0   \n",
       "2008-03-01  74575531  66027341.0          8548190.0                 3740582.0   \n",
       "\n",
       "            Seasonal_2nd_diff  \n",
       "Month                          \n",
       "1996-01-01         -3094276.0  \n",
       "1996-02-01          2393796.0  \n",
       "1996-03-01         -1007529.0  \n",
       "1996-04-01           -96826.0  \n",
       "1996-05-01          -246883.0  \n",
       "...                       ...  \n",
       "2007-11-01          3458688.0  \n",
       "2007-12-01         -2014203.0  \n",
       "2008-01-01         -1704526.0  \n",
       "2008-02-01          -550344.0  \n",
       "2008-03-01          4807608.0  \n",
       "\n",
       "[147 rows x 5 columns]"
      ]
     },
     "execution_count": 57,
     "metadata": {},
     "output_type": "execute_result"
    }
   ],
   "source": [
    "df_train"
   ]
  },
  {
   "cell_type": "code",
   "execution_count": 58,
   "id": "c84a352e",
   "metadata": {},
   "outputs": [
    {
     "name": "stdout",
     "output_type": "stream",
     "text": [
      "ADF Test Statistic : -4.24591494148446\n",
      "p-value : 0.0005504065781103545\n",
      "lags_used : 14\n",
      "No. of observations used : 132\n",
      "Data is stationary\n"
     ]
    }
   ],
   "source": [
    "adfuller_test(df_train['Seasonal_2nd_diff'])"
   ]
  },
  {
   "cell_type": "code",
   "execution_count": 59,
   "id": "c909aaee",
   "metadata": {},
   "outputs": [],
   "source": [
    "from statsmodels.graphics.tsaplots import plot_acf, plot_pacf"
   ]
  },
  {
   "cell_type": "code",
   "execution_count": 60,
   "id": "4ccd5a4c",
   "metadata": {},
   "outputs": [
    {
     "data": {
      "image/png": "[encoded data removed]",
      "text/plain": [
       "<Figure size 864x576 with 2 Axes>"
      ]
     },
     "metadata": {
      "needs_background": "light"
     },
     "output_type": "display_data"
    }
   ],
   "source": [
    "fig = plt.figure(figsize=(12, 8))\n",
    "ax1 = fig.add_subplot(211)\n",
    "fig = plot_acf(df_train['Seasonal_2nd_diff'], lags=40, ax=ax1)\n",
    "ax2 = fig.add_subplot(212)\n",
    "fig = plot_pacf(df_train['Seasonal_2nd_diff'], lags=40, ax=ax2)"
   ]
  },
  {
   "cell_type": "code",
   "execution_count": 61,
   "id": "9757def4",
   "metadata": {},
   "outputs": [],
   "source": [
    "import statsmodels.api as sm"
   ]
  },
  {
   "cell_type": "code",
   "execution_count": 222,
   "id": "18195a76",
   "metadata": {},
   "outputs": [
    {
     "name": "stderr",
     "output_type": "stream",
     "text": [
      "C:\\Users\\compaq\\Anaconda3\\lib\\site-packages\\statsmodels\\tsa\\base\\tsa_model.py:524: ValueWarning: No frequency information was provided, so inferred frequency MS will be used.\n",
      "  warnings.warn('No frequency information was'\n"
     ]
    }
   ],
   "source": [
    "model = sm.tsa.statespace.SARIMAX(df_train['RPM'], order=(1, 1, 1), seasonal_order=(0, 1, 1, 12))\n",
    "model_fit = model.fit()"
   ]
  },
  {
   "cell_type": "code",
   "execution_count": 223,
   "id": "d9312945",
   "metadata": {},
   "outputs": [
    {
     "name": "stderr",
     "output_type": "stream",
     "text": [
      "C:\\Users\\compaq\\AppData\\Local\\Temp/ipykernel_8708/2993410652.py:1: SettingWithCopyWarning: \n",
      "A value is trying to be set on a copy of a slice from a DataFrame.\n",
      "Try using .loc[row_indexer,col_indexer] = value instead\n",
      "\n",
      "See the caveats in the documentation: https://pandas.pydata.org/pandas-docs/stable/user_guide/indexing.html#returning-a-view-versus-a-copy\n",
      "  df_train['forecast'] = model_fit.predict(130, 150, dynamic = True)\n"
     ]
    }
   ],
   "source": [
    "df_train['forecast'] = model_fit.predict(130, 150, dynamic = True)"
   ]
  },
  {
   "cell_type": "code",
   "execution_count": 224,
   "id": "7e2ee687",
   "metadata": {
    "scrolled": false
   },
   "outputs": [
    {
     "data": {
      "text/plain": [
       "<AxesSubplot:xlabel='Month'>"
      ]
     },
     "execution_count": 224,
     "metadata": {},
     "output_type": "execute_result"
    },
    {
     "data": {
      "image/png": "[encoded data removed]",
      "text/plain": [
       "<Figure size 1152x576 with 1 Axes>"
      ]
     },
     "metadata": {
      "needs_background": "light"
     },
     "output_type": "display_data"
    }
   ],
   "source": [
    "df_train[['RPM', 'forecast']].plot(figsize=(16, 8))"
   ]
  },
  {
   "cell_type": "code",
   "execution_count": 225,
   "id": "2a52fde8",
   "metadata": {},
   "outputs": [],
   "source": [
    "# Adding months for predictions\n",
    "\n",
    "from pandas.tseries.offsets import DateOffset"
   ]
  },
  {
   "cell_type": "code",
   "execution_count": 226,
   "id": "76b79df8",
   "metadata": {},
   "outputs": [],
   "source": [
    "future_dates = [df_train.index[-1] + DateOffset(months=x) for x in range(0, 1000)]"
   ]
  },
  {
   "cell_type": "code",
   "execution_count": 227,
   "id": "34cc5738",
   "metadata": {},
   "outputs": [],
   "source": [
    "df_train_futuredates = pd.DataFrame(index=future_dates[1:], columns=df_train.columns)"
   ]
  },
  {
   "cell_type": "code",
   "execution_count": 228,
   "id": "2743233a",
   "metadata": {},
   "outputs": [
    {
     "data": {
      "text/html": [
       "<div>\n",
       "<style scoped>\n",
       "    .dataframe tbody tr th:only-of-type {\n",
       "        vertical-align: middle;\n",
       "    }\n",
       "\n",
       "    .dataframe tbody tr th {\n",
       "        vertical-align: top;\n",
       "    }\n",
       "\n",
       "    .dataframe thead th {\n",
       "        text-align: right;\n",
       "    }\n",
       "</style>\n",
       "<table border=\"1\" class=\"dataframe\">\n",
       "  <thead>\n",
       "    <tr style=\"text-align: right;\">\n",
       "      <th></th>\n",
       "      <th>RPM</th>\n",
       "      <th>lag12</th>\n",
       "      <th>Seasonal_1st_diff</th>\n",
       "      <th>Seasonal_1st_diff (lag1)</th>\n",
       "      <th>Seasonal_2nd_diff</th>\n",
       "      <th>forecast</th>\n",
       "    </tr>\n",
       "  </thead>\n",
       "  <tbody>\n",
       "    <tr>\n",
       "      <th>2008-04-01</th>\n",
       "      <td>NaN</td>\n",
       "      <td>NaN</td>\n",
       "      <td>NaN</td>\n",
       "      <td>NaN</td>\n",
       "      <td>NaN</td>\n",
       "      <td>NaN</td>\n",
       "    </tr>\n",
       "    <tr>\n",
       "      <th>2008-05-01</th>\n",
       "      <td>NaN</td>\n",
       "      <td>NaN</td>\n",
       "      <td>NaN</td>\n",
       "      <td>NaN</td>\n",
       "      <td>NaN</td>\n",
       "      <td>NaN</td>\n",
       "    </tr>\n",
       "    <tr>\n",
       "      <th>2008-06-01</th>\n",
       "      <td>NaN</td>\n",
       "      <td>NaN</td>\n",
       "      <td>NaN</td>\n",
       "      <td>NaN</td>\n",
       "      <td>NaN</td>\n",
       "      <td>NaN</td>\n",
       "    </tr>\n",
       "    <tr>\n",
       "      <th>2008-07-01</th>\n",
       "      <td>NaN</td>\n",
       "      <td>NaN</td>\n",
       "      <td>NaN</td>\n",
       "      <td>NaN</td>\n",
       "      <td>NaN</td>\n",
       "      <td>NaN</td>\n",
       "    </tr>\n",
       "    <tr>\n",
       "      <th>2008-08-01</th>\n",
       "      <td>NaN</td>\n",
       "      <td>NaN</td>\n",
       "      <td>NaN</td>\n",
       "      <td>NaN</td>\n",
       "      <td>NaN</td>\n",
       "      <td>NaN</td>\n",
       "    </tr>\n",
       "  </tbody>\n",
       "</table>\n",
       "</div>"
      ],
      "text/plain": [
       "            RPM lag12 Seasonal_1st_diff Seasonal_1st_diff (lag1)  \\\n",
       "2008-04-01  NaN   NaN               NaN                      NaN   \n",
       "2008-05-01  NaN   NaN               NaN                      NaN   \n",
       "2008-06-01  NaN   NaN               NaN                      NaN   \n",
       "2008-07-01  NaN   NaN               NaN                      NaN   \n",
       "2008-08-01  NaN   NaN               NaN                      NaN   \n",
       "\n",
       "           Seasonal_2nd_diff forecast  \n",
       "2008-04-01               NaN      NaN  \n",
       "2008-05-01               NaN      NaN  \n",
       "2008-06-01               NaN      NaN  \n",
       "2008-07-01               NaN      NaN  \n",
       "2008-08-01               NaN      NaN  "
      ]
     },
     "execution_count": 228,
     "metadata": {},
     "output_type": "execute_result"
    }
   ],
   "source": [
    "df_train_futuredates.head()"
   ]
  },
  {
   "cell_type": "code",
   "execution_count": 229,
   "id": "151044bd",
   "metadata": {},
   "outputs": [],
   "source": [
    "df_train_future = pd.concat([df_train, df_train_futuredates])"
   ]
  },
  {
   "cell_type": "code",
   "execution_count": 230,
   "id": "19de52ca",
   "metadata": {},
   "outputs": [
    {
     "data": {
      "text/html": [
       "<div>\n",
       "<style scoped>\n",
       "    .dataframe tbody tr th:only-of-type {\n",
       "        vertical-align: middle;\n",
       "    }\n",
       "\n",
       "    .dataframe tbody tr th {\n",
       "        vertical-align: top;\n",
       "    }\n",
       "\n",
       "    .dataframe thead th {\n",
       "        text-align: right;\n",
       "    }\n",
       "</style>\n",
       "<table border=\"1\" class=\"dataframe\">\n",
       "  <thead>\n",
       "    <tr style=\"text-align: right;\">\n",
       "      <th></th>\n",
       "      <th>RPM</th>\n",
       "      <th>lag12</th>\n",
       "      <th>Seasonal_1st_diff</th>\n",
       "      <th>Seasonal_1st_diff (lag1)</th>\n",
       "      <th>Seasonal_2nd_diff</th>\n",
       "      <th>forecast</th>\n",
       "    </tr>\n",
       "  </thead>\n",
       "  <tbody>\n",
       "    <tr>\n",
       "      <th>1996-01-01</th>\n",
       "      <td>41972194</td>\n",
       "      <td>45850623.0</td>\n",
       "      <td>-3878429.0</td>\n",
       "      <td>-784153.0</td>\n",
       "      <td>-3094276.0</td>\n",
       "      <td>NaN</td>\n",
       "    </tr>\n",
       "    <tr>\n",
       "      <th>1996-02-01</th>\n",
       "      <td>42054796</td>\n",
       "      <td>42838949.0</td>\n",
       "      <td>-784153.0</td>\n",
       "      <td>-3177949.0</td>\n",
       "      <td>2393796.0</td>\n",
       "      <td>NaN</td>\n",
       "    </tr>\n",
       "    <tr>\n",
       "      <th>1996-03-01</th>\n",
       "      <td>50443045</td>\n",
       "      <td>53620994.0</td>\n",
       "      <td>-3177949.0</td>\n",
       "      <td>-2170420.0</td>\n",
       "      <td>-1007529.0</td>\n",
       "      <td>NaN</td>\n",
       "    </tr>\n",
       "    <tr>\n",
       "      <th>1996-04-01</th>\n",
       "      <td>47112397</td>\n",
       "      <td>49282817.0</td>\n",
       "      <td>-2170420.0</td>\n",
       "      <td>-2073594.0</td>\n",
       "      <td>-96826.0</td>\n",
       "      <td>NaN</td>\n",
       "    </tr>\n",
       "    <tr>\n",
       "      <th>1996-05-01</th>\n",
       "      <td>49118248</td>\n",
       "      <td>51191842.0</td>\n",
       "      <td>-2073594.0</td>\n",
       "      <td>-1826711.0</td>\n",
       "      <td>-246883.0</td>\n",
       "      <td>NaN</td>\n",
       "    </tr>\n",
       "    <tr>\n",
       "      <th>...</th>\n",
       "      <td>...</td>\n",
       "      <td>...</td>\n",
       "      <td>...</td>\n",
       "      <td>...</td>\n",
       "      <td>...</td>\n",
       "      <td>...</td>\n",
       "    </tr>\n",
       "    <tr>\n",
       "      <th>2091-02-01</th>\n",
       "      <td>NaN</td>\n",
       "      <td>NaN</td>\n",
       "      <td>NaN</td>\n",
       "      <td>NaN</td>\n",
       "      <td>NaN</td>\n",
       "      <td>NaN</td>\n",
       "    </tr>\n",
       "    <tr>\n",
       "      <th>2091-03-01</th>\n",
       "      <td>NaN</td>\n",
       "      <td>NaN</td>\n",
       "      <td>NaN</td>\n",
       "      <td>NaN</td>\n",
       "      <td>NaN</td>\n",
       "      <td>NaN</td>\n",
       "    </tr>\n",
       "    <tr>\n",
       "      <th>2091-04-01</th>\n",
       "      <td>NaN</td>\n",
       "      <td>NaN</td>\n",
       "      <td>NaN</td>\n",
       "      <td>NaN</td>\n",
       "      <td>NaN</td>\n",
       "      <td>NaN</td>\n",
       "    </tr>\n",
       "    <tr>\n",
       "      <th>2091-05-01</th>\n",
       "      <td>NaN</td>\n",
       "      <td>NaN</td>\n",
       "      <td>NaN</td>\n",
       "      <td>NaN</td>\n",
       "      <td>NaN</td>\n",
       "      <td>NaN</td>\n",
       "    </tr>\n",
       "    <tr>\n",
       "      <th>2091-06-01</th>\n",
       "      <td>NaN</td>\n",
       "      <td>NaN</td>\n",
       "      <td>NaN</td>\n",
       "      <td>NaN</td>\n",
       "      <td>NaN</td>\n",
       "      <td>NaN</td>\n",
       "    </tr>\n",
       "  </tbody>\n",
       "</table>\n",
       "<p>1146 rows × 6 columns</p>\n",
       "</div>"
      ],
      "text/plain": [
       "                 RPM       lag12  Seasonal_1st_diff  Seasonal_1st_diff (lag1)  \\\n",
       "1996-01-01  41972194  45850623.0         -3878429.0                 -784153.0   \n",
       "1996-02-01  42054796  42838949.0          -784153.0                -3177949.0   \n",
       "1996-03-01  50443045  53620994.0         -3177949.0                -2170420.0   \n",
       "1996-04-01  47112397  49282817.0         -2170420.0                -2073594.0   \n",
       "1996-05-01  49118248  51191842.0         -2073594.0                -1826711.0   \n",
       "...              ...         ...                ...                       ...   \n",
       "2091-02-01       NaN         NaN                NaN                       NaN   \n",
       "2091-03-01       NaN         NaN                NaN                       NaN   \n",
       "2091-04-01       NaN         NaN                NaN                       NaN   \n",
       "2091-05-01       NaN         NaN                NaN                       NaN   \n",
       "2091-06-01       NaN         NaN                NaN                       NaN   \n",
       "\n",
       "            Seasonal_2nd_diff  forecast  \n",
       "1996-01-01         -3094276.0       NaN  \n",
       "1996-02-01          2393796.0       NaN  \n",
       "1996-03-01         -1007529.0       NaN  \n",
       "1996-04-01           -96826.0       NaN  \n",
       "1996-05-01          -246883.0       NaN  \n",
       "...                       ...       ...  \n",
       "2091-02-01                NaN       NaN  \n",
       "2091-03-01                NaN       NaN  \n",
       "2091-04-01                NaN       NaN  \n",
       "2091-05-01                NaN       NaN  \n",
       "2091-06-01                NaN       NaN  \n",
       "\n",
       "[1146 rows x 6 columns]"
      ]
     },
     "execution_count": 230,
     "metadata": {},
     "output_type": "execute_result"
    }
   ],
   "source": [
    "df_train_future"
   ]
  },
  {
   "cell_type": "code",
   "execution_count": 231,
   "id": "e6e60d94",
   "metadata": {},
   "outputs": [
    {
     "name": "stderr",
     "output_type": "stream",
     "text": [
      "C:\\Users\\compaq\\Anaconda3\\lib\\site-packages\\statsmodels\\tsa\\statespace\\kalman_filter.py:2290: ValueWarning: Dynamic prediction specified to begin during out-of-sample forecasting period, and so has no effect.\n",
      "  warn('Dynamic prediction specified to begin during'\n"
     ]
    },
    {
     "data": {
      "text/plain": [
       "<AxesSubplot:>"
      ]
     },
     "execution_count": 231,
     "metadata": {},
     "output_type": "execute_result"
    },
    {
     "data": {
      "image/png": "[encoded data removed]",
      "text/plain": [
       "<Figure size 432x288 with 1 Axes>"
      ]
     },
     "metadata": {
      "needs_background": "light"
     },
     "output_type": "display_data"
    }
   ],
   "source": [
    "df_train_future['forecast'] = model_fit.predict(148, 400, dynamic = True)\n",
    "df_train_future[['RPM', 'forecast']].plot()"
   ]
  },
  {
   "cell_type": "code",
   "execution_count": 232,
   "id": "28405ec3",
   "metadata": {},
   "outputs": [
    {
     "data": {
      "image/png": "[encoded data removed]",
      "text/plain": [
       "<Figure size 432x288 with 1 Axes>"
      ]
     },
     "metadata": {
      "needs_background": "light"
     },
     "output_type": "display_data"
    }
   ],
   "source": [
    "plt.plot(df_test['RPM'])\n",
    "plt.plot(df_train_future['forecast'], color = 'red')\n",
    "plt.show()"
   ]
  },
  {
   "cell_type": "code",
   "execution_count": null,
   "id": "11d5513a",
   "metadata": {},
   "outputs": [],
   "source": []
  }
 ],
 "metadata": {
  "kernelspec": {
   "display_name": "Python 3 (ipykernel)",
   "language": "python",
   "name": "python3"
  },
  "language_info": {
   "codemirror_mode": {
    "name": "ipython",
    "version": 3
   },
   "file_extension": ".py",
   "mimetype": "text/x-python",
   "name": "python",
   "nbconvert_exporter": "python",
   "pygments_lexer": "ipython3",
   "version": "3.9.7"
  }
 },
 "nbformat": 4,
 "nbformat_minor": 5
}
